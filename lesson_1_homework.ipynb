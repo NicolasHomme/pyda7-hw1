{
 "cells": [
  {
   "cell_type": "markdown",
   "metadata": {},
   "source": [
    "Урок 1. Основы python - домашнее задание"
   ]
  },
  {
   "cell_type": "code",
   "execution_count": 1,
   "metadata": {},
   "outputs": [
    {
     "name": "stdout",
     "output_type": "stream",
     "text": [
      "True, длинная фраза длиннее короткой\n"
     ]
    }
   ],
   "source": [
    "#Задание 1\n",
    "long_phrase = \"Насколько проще было бы писать программы, если бы не заказчики\"\n",
    "short_phrase = \"640Кб должно хватить для любых задач. Билл Гейтс (по легенде)\"\n",
    "len_long_phrase = len(long_phrase)\n",
    "len_short_phrase = len (short_phrase)\n",
    "if len_long_phrase > len_short_phrase:\n",
    "    print('True, длинная фраза длиннее короткой')\n",
    "else:\n",
    "    print('False')"
   ]
  },
  {
   "cell_type": "code",
   "execution_count": 17,
   "metadata": {},
   "outputs": [
    {
     "name": "stdout",
     "output_type": "stream",
     "text": [
      "Введите объем файла в байтах: 200000000\n",
      "Объем файла равен 190.73 Mb\n"
     ]
    }
   ],
   "source": [
    "#Задание 2\n",
    "size = int(input('Введите объем файла в байтах: '))\n",
    "size_Mb = size/1048576\n",
    "print('Объем файла равен %.2f Mb' % size_Mb)"
   ]
  },
  {
   "cell_type": "code",
   "execution_count": 2,
   "metadata": {},
   "outputs": [
    {
     "name": "stdout",
     "output_type": "stream",
     "text": [
      "Введите месяц дня рождения: май\n",
      "Введите день дня рождения: 27\n",
      "Ваш знак зодиака Близнецы\n"
     ]
    }
   ],
   "source": [
    "#Задание 3\n",
    "month = input('Введите месяц дня рождения: ').lower()\n",
    "date = int(input('Введите день дня рождения: '))\n",
    "if (month == 'март' and date >= 21) or (month == 'апрель' and date <= 20):\n",
    "    sign = 'Овен'\n",
    "elif (month == 'апрель' and date >= 21) or (month == 'май' and date <= 20):\n",
    "    sign = 'Телец'\n",
    "elif (month == 'май' and date >= 21) or (month == 'июнь' and date <= 21):\n",
    "    sign = 'Близнецы'\n",
    "elif (month == 'июнь' and date >= 22) or (month == 'июль' and date <= 22):\n",
    "    sign = 'Рак'\n",
    "elif (month == 'июль' and date >= 23) or (month == 'август' and date <= 23):\n",
    "    sign = 'Лев'\n",
    "elif (month == 'август' and date >= 24) or (month == 'сентябрь' and date <= 23):\n",
    "    sign = 'Дева'\n",
    "elif (month == 'сентябрь' and date >= 24) or (month == 'октябрь' and date <= 23):\n",
    "    sign = 'Весы'\n",
    "elif (month == 'октябрь' and date >= 24) or (month == 'ноябрь' and date <= 22):\n",
    "    sign = 'Скорпион'\n",
    "elif (month == 'ноябрь' and date >= 23) or (month == 'декабрь' and date <= 21):\n",
    "    sign = 'Стрелец'\n",
    "elif (month == 'декабрь' and date >= 22) or (month == 'январь' and date <= 20):\n",
    "    sign = 'Козерог'\n",
    "elif (month == 'январь' and date >= 21) or (month == 'февраль' and date <= 20):\n",
    "    sign = 'Водолей'\n",
    "elif (month == 'февраль' and date >= 21) or (month == 'март' and date <= 20):\n",
    "    sign = 'Рыбы'\n",
    "else: \n",
    "    sign = '--- некорректно введены данные!'\n",
    "print('Ваш знак зодиака',sign)"
   ]
  },
  {
   "cell_type": "code",
   "execution_count": 28,
   "metadata": {},
   "outputs": [
    {
     "name": "stdout",
     "output_type": "stream",
     "text": [
      "Введите заработанную плату в месяц: 100000\n",
      "Введите сколько процентов уходит на ипотеку: 30\n",
      "Введите сколько процентов уходит на жизнь: 50\n",
      "Введите количество премий за год: 2\n",
      "На ипотеку было потрачено: 360000 рублей\n",
      "Было накоплено: 340000 рублей\n",
      "Для тестирования. Потрачено на отпуск: 100000 рублей\n",
      "Для тестирования. Потрачено на жизнь: 600000 рублей\n"
     ]
    }
   ],
   "source": [
    "#Задание 4\n",
    "#Пример:\n",
    "#Введите заработанную плату в месяц: 100000\n",
    "#Введите сколько процентов уходит на ипотеку: 30\n",
    "#Введите сколько процентов уходит на жизнь: 50\n",
    "#Введите количество премий за год: 2\n",
    "#Вывод:\n",
    "#На ипотеку было потрачено: 360000 рублей\n",
    "#Было накоплено: 340000 рублей   \n",
    "salary = int(input('Введите заработанную плату в месяц: '))\n",
    "p_ipoteka = int(input('Введите сколько процентов уходит на ипотеку: '))\n",
    "p_life = int(input('Введите сколько процентов уходит на жизнь: '))\n",
    "premium = int(input('Введите количество премий за год: '))\n",
    "\n",
    "ipoteka = 12 * salary * p_ipoteka / 100\n",
    "life = 12 * salary * p_life / 100\n",
    "vacation = premium * salary / 2\n",
    "accumulation = (12 + premium) * salary - vacation - ipoteka - life\n",
    "\n",
    "print('На ипотеку было потрачено: %d рублей' %ipoteka)\n",
    "print('Было накоплено: %d рублей' %accumulation)\n",
    "print('Для тестирования. Потрачено на отпуск: %d рублей' %vacation)\n",
    "print('Для тестирования. Потрачено на жизнь: %d рублей' %life)"
   ]
  },
  {
   "cell_type": "code",
   "execution_count": 3,
   "metadata": {},
   "outputs": [
    {
     "name": "stdout",
     "output_type": "stream",
     "text": [
      "Введите количество раундов игры: 50\n",
      "1, 2, Fizz, 4, Buzz, Fizz, 7, 8, Fizz, Buzz, 11, Fizz, 13, 14, Fizz Buzz, 16, 17, Fizz, 19, Buzz, Fizz, 22, 23, Fizz, Buzz, 26, Fizz, 28, 29, Fizz Buzz, 31, 32, Fizz, 34, Buzz, Fizz, 37, 38, Fizz, Buzz, 41, Fizz, 43, 44, Fizz Buzz, 46, 47, Fizz, 49, Buzz.\n"
     ]
    }
   ],
   "source": [
    "#Дополнительное задание 1\n",
    "n = int(input('Введите количество раундов игры: '))\n",
    "i = 1\n",
    "word = ''\n",
    "while i <= n:\n",
    "    if i%3 == 0 and i%5 ==0: \n",
    "        word += 'Fizz Buzz'\n",
    "    elif i%3 == 0:\n",
    "        word += 'Fizz'\n",
    "    elif i%5 == 0:\n",
    "        word += 'Buzz'\n",
    "    else:\n",
    "        word += str(i)\n",
    "    if i == n: \n",
    "        word += '.'\n",
    "    else:\n",
    "        word += ', '\n",
    "    i+=1\n",
    "print(word)"
   ]
  },
  {
   "cell_type": "code",
   "execution_count": 57,
   "metadata": {},
   "outputs": [
    {
     "name": "stdout",
     "output_type": "stream",
     "text": [
      "Введите строку с сигналом: 010111010111010111010111010111010111010111010111010111\n",
      "Сигнал найден 010111  периодичность сигнала 6\n"
     ]
    }
   ],
   "source": [
    "#Дополнительное задание 2\n",
    "signal = input('Введите строку с сигналом: ')\n",
    "#периодичность 4 '1011101110111011101110111011101110111011'\n",
    "#периодичность 6 '010111010111010111010111010111010111010111010111010111'\n",
    "i = 3\n",
    "while i < len(signal):\n",
    "    code = signal[0:i]\n",
    "    next_code = signal[i:i+i]\n",
    "    if code == next_code:\n",
    "        print('Сигнал найден',code,' периодичность сигнала', i)\n",
    "        break\n",
    "    i += 1"
   ]
  },
  {
   "cell_type": "code",
   "execution_count": 66,
   "metadata": {},
   "outputs": [
    {
     "name": "stdout",
     "output_type": "stream",
     "text": [
      "Введите слово: test\n",
      "es\n"
     ]
    }
   ],
   "source": [
    "#Дополнительное задание 3\n",
    "#Для ‘test’ - 'es’\n",
    "#Для ‘testing’ - ‘t’\n",
    "word = input('Введите слово: ')\n",
    "word_len = len(word)\n",
    "middle = int(word_len/2)\n",
    "if word_len%2 == 0:\n",
    "    print(word[middle-1]+word[middle])\n",
    "else:\n",
    "    print(word[middle])"
   ]
  },
  {
   "cell_type": "code",
   "execution_count": null,
   "metadata": {},
   "outputs": [],
   "source": []
  }
 ],
 "metadata": {
  "kernelspec": {
   "display_name": "Python 3",
   "language": "python",
   "name": "python3"
  },
  "language_info": {
   "codemirror_mode": {
    "name": "ipython",
    "version": 3
   },
   "file_extension": ".py",
   "mimetype": "text/x-python",
   "name": "python",
   "nbconvert_exporter": "python",
   "pygments_lexer": "ipython3",
   "version": "3.7.1"
  }
 },
 "nbformat": 4,
 "nbformat_minor": 2
}
